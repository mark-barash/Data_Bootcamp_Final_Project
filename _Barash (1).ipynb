{
 "cells": [
  {
   "cell_type": "markdown",
   "metadata": {},
   "source": [
    "**Mark Barash , mb5422 , mb5422@nyu.edu **"
   ]
  },
  {
   "cell_type": "markdown",
   "metadata": {},
   "source": [
    "Question 1\n",
    "\n",
    "Part a) This Exam is written in a .ipynb document type (Which is an ipython notebook)\n"
   ]
  },
  {
   "cell_type": "markdown",
   "metadata": {},
   "source": [
    "Part b) \n",
    "\n",
    "*Spyder's Help function\n",
    "\n",
    "*Stack Overflow\n",
    "\n",
    "*Google Fu\n"
   ]
  },
  {
   "cell_type": "markdown",
   "metadata": {},
   "source": [
    "Part c)\n",
    "\n",
    "[Data Bootcamp course](http://nyu.data-bootcamp.com/)\n",
    "\n",
    "[Data Bootcamp Book](https://nyudatabootcamp.gitbooks.io/data-bootcamp/content/graphs1.html)\n"
   ]
  },
  {
   "cell_type": "code",
   "execution_count": 8,
   "metadata": {},
   "outputs": [
    {
     "name": "stdout",
     "output_type": "stream",
     "text": [
      "c = something\n",
      "z = 0.6666666666666666\n"
     ]
    }
   ],
   "source": [
    "#part D\n",
    "a = 'some'\n",
    "b = 'thing'\n",
    "c = a + b\n",
    "print('c =', c)\n",
    "#%%\n",
    "x = 2\n",
    "y = 3\n",
    "z = x/y\n",
    "print('z =', z)"
   ]
  },
  {
   "cell_type": "markdown",
   "metadata": {},
   "source": [
    "# Question 2"
   ]
  },
  {
   "cell_type": "code",
   "execution_count": 9,
   "metadata": {
    "collapsed": true
   },
   "outputs": [],
   "source": [
    "my_string = \"Th+s +s A Str+ng\""
   ]
  },
  {
   "cell_type": "markdown",
   "metadata": {},
   "source": [
    "Part A"
   ]
  },
  {
   "cell_type": "code",
   "execution_count": 10,
   "metadata": {},
   "outputs": [
    {
     "data": {
      "text/plain": [
       "'th+s +s a str+ng'"
      ]
     },
     "execution_count": 10,
     "metadata": {},
     "output_type": "execute_result"
    }
   ],
   "source": [
    "my_string.lower()"
   ]
  },
  {
   "cell_type": "markdown",
   "metadata": {},
   "source": [
    "Part B"
   ]
  },
  {
   "cell_type": "code",
   "execution_count": 11,
   "metadata": {},
   "outputs": [
    {
     "data": {
      "text/plain": [
       "'Th+s+sAStr+ng'"
      ]
     },
     "execution_count": 11,
     "metadata": {},
     "output_type": "execute_result"
    }
   ],
   "source": [
    "my_string.replace(\" \",'')"
   ]
  },
  {
   "cell_type": "markdown",
   "metadata": {},
   "source": [
    "Part C"
   ]
  },
  {
   "cell_type": "code",
   "execution_count": 12,
   "metadata": {},
   "outputs": [
    {
     "data": {
      "text/plain": [
       "'This is A String'"
      ]
     },
     "execution_count": 12,
     "metadata": {},
     "output_type": "execute_result"
    }
   ],
   "source": [
    "my_string.replace(\"+\",\"i\")"
   ]
  },
  {
   "cell_type": "markdown",
   "metadata": {},
   "source": [
    "Part D"
   ]
  },
  {
   "cell_type": "code",
   "execution_count": 13,
   "metadata": {},
   "outputs": [
    {
     "data": {
      "text/plain": [
       "['Th+s', '+s A Str+ng']"
      ]
     },
     "execution_count": 13,
     "metadata": {},
     "output_type": "execute_result"
    }
   ],
   "source": [
    "my_string.split(maxsplit = 1)"
   ]
  },
  {
   "cell_type": "code",
   "execution_count": 14,
   "metadata": {},
   "outputs": [
    {
     "data": {
      "text/plain": [
       "['Th+s +s A', 'Str+ng']"
      ]
     },
     "execution_count": 14,
     "metadata": {},
     "output_type": "execute_result"
    }
   ],
   "source": [
    "my_string.rsplit(maxsplit = 1)"
   ]
  },
  {
   "cell_type": "markdown",
   "metadata": {},
   "source": [
    "The two results are quite different"
   ]
  },
  {
   "cell_type": "markdown",
   "metadata": {},
   "source": [
    "# Question 3"
   ]
  },
  {
   "cell_type": "markdown",
   "metadata": {},
   "source": [
    "Part A"
   ]
  },
  {
   "cell_type": "code",
   "execution_count": 15,
   "metadata": {},
   "outputs": [
    {
     "data": {
      "text/plain": [
       "range"
      ]
     },
     "execution_count": 15,
     "metadata": {},
     "output_type": "execute_result"
    }
   ],
   "source": [
    "type(range(5))"
   ]
  },
  {
   "cell_type": "code",
   "execution_count": 16,
   "metadata": {},
   "outputs": [
    {
     "data": {
      "text/plain": [
       "list"
      ]
     },
     "execution_count": 16,
     "metadata": {},
     "output_type": "execute_result"
    }
   ],
   "source": [
    "type(list(range(5)))"
   ]
  },
  {
   "cell_type": "markdown",
   "metadata": {},
   "source": [
    "Part B"
   ]
  },
  {
   "cell_type": "code",
   "execution_count": 21,
   "metadata": {},
   "outputs": [
    {
     "name": "stdout",
     "output_type": "stream",
     "text": [
      "4950\n"
     ]
    }
   ],
   "source": [
    "numbers = list(range(0,100))\n",
    "total = 0\n",
    "for num in numbers:\n",
    "    total+=num\n",
    "print(total)\n",
    "    "
   ]
  },
  {
   "cell_type": "markdown",
   "metadata": {},
   "source": [
    "Part C"
   ]
  },
  {
   "cell_type": "code",
   "execution_count": 26,
   "metadata": {},
   "outputs": [
    {
     "name": "stdout",
     "output_type": "stream",
     "text": [
      "[4, 3, 3, 5, 4, 4]\n",
      "23\n"
     ]
    }
   ],
   "source": [
    "nums = [\"zero\", \"one\", \"two\", \"three\", \"four\", \"five\"]\n",
    "new_list = []\n",
    "\n",
    "for item in nums:\n",
    "    new_list.append(len(item))\n",
    "print(new_list)\n",
    "\n",
    "sum_of_lengths = 0\n",
    "for num in new_list:\n",
    "    sum_of_lengths +=num\n",
    "print(sum_of_lengths)\n"
   ]
  },
  {
   "cell_type": "markdown",
   "metadata": {},
   "source": [
    "# Question 4"
   ]
  },
  {
   "cell_type": "markdown",
   "metadata": {},
   "source": [
    "Part A"
   ]
  },
  {
   "cell_type": "code",
   "execution_count": 29,
   "metadata": {},
   "outputs": [
    {
     "name": "stdout",
     "output_type": "stream",
     "text": [
      "<class 'str'>\n"
     ]
    }
   ],
   "source": [
    "def num_identifier(x):\n",
    "    if type(x)==int or type(x)==float:\n",
    "        print(x,type(x))\n",
    "    else:\n",
    "        print(type(x))\n"
   ]
  },
  {
   "cell_type": "markdown",
   "metadata": {},
   "source": [
    "Part B"
   ]
  },
  {
   "cell_type": "code",
   "execution_count": 31,
   "metadata": {},
   "outputs": [
    {
     "name": "stdout",
     "output_type": "stream",
     "text": [
      "6 <class 'int'>\n",
      "6.0 <class 'float'>\n",
      "<class 'str'>\n",
      "<class 'list'>\n",
      "<class 'tuple'>\n"
     ]
    }
   ],
   "source": [
    "b1 = 2*3\n",
    "b2 = 2.0*3\n",
    "b3 = 'Dave Backus'\n",
    "b4 = ['This', \"is\", 'not', \"a\", 'string']\n",
    "b5 = (b4[0], b4[2], b4[4])\n",
    "\n",
    "num_identifier(b1)\n",
    "num_identifier(b2)\n",
    "num_identifier(b3)\n",
    "num_identifier(b4)\n",
    "num_identifier(b5)"
   ]
  },
  {
   "cell_type": "markdown",
   "metadata": {},
   "source": [
    "# Question 5"
   ]
  },
  {
   "cell_type": "markdown",
   "metadata": {},
   "source": [
    "Part A"
   ]
  },
  {
   "cell_type": "code",
   "execution_count": 34,
   "metadata": {
    "collapsed": true
   },
   "outputs": [],
   "source": [
    "def foo(x,n):\n",
    "    print(x[0:n])\n",
    "\n",
    "    "
   ]
  },
  {
   "cell_type": "markdown",
   "metadata": {},
   "source": [
    "Part B"
   ]
  },
  {
   "cell_type": "code",
   "execution_count": 43,
   "metadata": {},
   "outputs": [
    {
     "name": "stdout",
     "output_type": "stream",
     "text": [
      "Da\n",
      "['This', 'is']\n",
      "('This', 'not')\n"
     ]
    }
   ],
   "source": [
    "#There is an error on applying foo to both b1, and b2 because both integers and floats are not indexable\n",
    "foo(b3,2)\n",
    "foo(b4,2)\n",
    "foo(b5,2)\n",
    "\n"
   ]
  },
  {
   "cell_type": "markdown",
   "metadata": {},
   "source": [
    "# Question 6"
   ]
  },
  {
   "cell_type": "markdown",
   "metadata": {},
   "source": [
    "Part A"
   ]
  },
  {
   "cell_type": "code",
   "execution_count": 45,
   "metadata": {},
   "outputs": [
    {
     "data": {
      "text/html": [
       "<div>\n",
       "<style>\n",
       "    .dataframe thead tr:only-child th {\n",
       "        text-align: right;\n",
       "    }\n",
       "\n",
       "    .dataframe thead th {\n",
       "        text-align: left;\n",
       "    }\n",
       "\n",
       "    .dataframe tbody tr th {\n",
       "        vertical-align: top;\n",
       "    }\n",
       "</style>\n",
       "<table border=\"1\" class=\"dataframe\">\n",
       "  <thead>\n",
       "    <tr style=\"text-align: right;\">\n",
       "      <th></th>\n",
       "      <th>yearID</th>\n",
       "      <th>lgID</th>\n",
       "      <th>teamID</th>\n",
       "      <th>Wins</th>\n",
       "      <th>Loses</th>\n",
       "      <th>Runs</th>\n",
       "      <th>AtBats</th>\n",
       "      <th>Hits</th>\n",
       "      <th>2Bhits</th>\n",
       "      <th>3Bhits</th>\n",
       "      <th>HR</th>\n",
       "      <th>BB</th>\n",
       "      <th>park</th>\n",
       "      <th>name</th>\n",
       "      <th>attendance</th>\n",
       "    </tr>\n",
       "  </thead>\n",
       "  <tbody>\n",
       "    <tr>\n",
       "      <th>0</th>\n",
       "      <td>2013</td>\n",
       "      <td>NL</td>\n",
       "      <td>SLN</td>\n",
       "      <td>97</td>\n",
       "      <td>65</td>\n",
       "      <td>783</td>\n",
       "      <td>5557</td>\n",
       "      <td>1494</td>\n",
       "      <td>322</td>\n",
       "      <td>20</td>\n",
       "      <td>125</td>\n",
       "      <td>481</td>\n",
       "      <td>Busch Stadium III</td>\n",
       "      <td>St. Louis Cardinals</td>\n",
       "      <td>3369769</td>\n",
       "    </tr>\n",
       "    <tr>\n",
       "      <th>1</th>\n",
       "      <td>2013</td>\n",
       "      <td>NL</td>\n",
       "      <td>PIT</td>\n",
       "      <td>94</td>\n",
       "      <td>68</td>\n",
       "      <td>634</td>\n",
       "      <td>5486</td>\n",
       "      <td>1345</td>\n",
       "      <td>273</td>\n",
       "      <td>35</td>\n",
       "      <td>161</td>\n",
       "      <td>469</td>\n",
       "      <td>PNC Park</td>\n",
       "      <td>Pittsburgh Pirates</td>\n",
       "      <td>2256862</td>\n",
       "    </tr>\n",
       "    <tr>\n",
       "      <th>2</th>\n",
       "      <td>2013</td>\n",
       "      <td>NL</td>\n",
       "      <td>CIN</td>\n",
       "      <td>90</td>\n",
       "      <td>72</td>\n",
       "      <td>698</td>\n",
       "      <td>5499</td>\n",
       "      <td>1370</td>\n",
       "      <td>274</td>\n",
       "      <td>20</td>\n",
       "      <td>155</td>\n",
       "      <td>585</td>\n",
       "      <td>Great American Ball Park</td>\n",
       "      <td>Cincinnati Reds</td>\n",
       "      <td>2534369</td>\n",
       "    </tr>\n",
       "    <tr>\n",
       "      <th>3</th>\n",
       "      <td>2013</td>\n",
       "      <td>NL</td>\n",
       "      <td>MIL</td>\n",
       "      <td>74</td>\n",
       "      <td>88</td>\n",
       "      <td>640</td>\n",
       "      <td>5474</td>\n",
       "      <td>1381</td>\n",
       "      <td>238</td>\n",
       "      <td>43</td>\n",
       "      <td>157</td>\n",
       "      <td>407</td>\n",
       "      <td>Miller Park</td>\n",
       "      <td>Milwaukee Brewers</td>\n",
       "      <td>2531105</td>\n",
       "    </tr>\n",
       "    <tr>\n",
       "      <th>4</th>\n",
       "      <td>2013</td>\n",
       "      <td>NL</td>\n",
       "      <td>CHN</td>\n",
       "      <td>66</td>\n",
       "      <td>96</td>\n",
       "      <td>602</td>\n",
       "      <td>5498</td>\n",
       "      <td>1307</td>\n",
       "      <td>297</td>\n",
       "      <td>18</td>\n",
       "      <td>172</td>\n",
       "      <td>439</td>\n",
       "      <td>U.S. Cellular Field</td>\n",
       "      <td>Chicago White Sox</td>\n",
       "      <td>1768413</td>\n",
       "    </tr>\n",
       "    <tr>\n",
       "      <th>5</th>\n",
       "      <td>2013</td>\n",
       "      <td>NL</td>\n",
       "      <td>ATL</td>\n",
       "      <td>96</td>\n",
       "      <td>66</td>\n",
       "      <td>688</td>\n",
       "      <td>5441</td>\n",
       "      <td>1354</td>\n",
       "      <td>247</td>\n",
       "      <td>21</td>\n",
       "      <td>181</td>\n",
       "      <td>542</td>\n",
       "      <td>Turner Field</td>\n",
       "      <td>Atlanta Braves</td>\n",
       "      <td>2548679</td>\n",
       "    </tr>\n",
       "    <tr>\n",
       "      <th>6</th>\n",
       "      <td>2013</td>\n",
       "      <td>NL</td>\n",
       "      <td>WAS</td>\n",
       "      <td>86</td>\n",
       "      <td>76</td>\n",
       "      <td>656</td>\n",
       "      <td>5436</td>\n",
       "      <td>1365</td>\n",
       "      <td>259</td>\n",
       "      <td>27</td>\n",
       "      <td>161</td>\n",
       "      <td>464</td>\n",
       "      <td>Nationals Park</td>\n",
       "      <td>Washington Nationals</td>\n",
       "      <td>2652422</td>\n",
       "    </tr>\n",
       "    <tr>\n",
       "      <th>7</th>\n",
       "      <td>2013</td>\n",
       "      <td>NL</td>\n",
       "      <td>NYN</td>\n",
       "      <td>74</td>\n",
       "      <td>88</td>\n",
       "      <td>619</td>\n",
       "      <td>5559</td>\n",
       "      <td>1318</td>\n",
       "      <td>263</td>\n",
       "      <td>32</td>\n",
       "      <td>130</td>\n",
       "      <td>512</td>\n",
       "      <td>Citi Field</td>\n",
       "      <td>New York Mets</td>\n",
       "      <td>2135657</td>\n",
       "    </tr>\n",
       "    <tr>\n",
       "      <th>8</th>\n",
       "      <td>2013</td>\n",
       "      <td>NL</td>\n",
       "      <td>PHI</td>\n",
       "      <td>73</td>\n",
       "      <td>89</td>\n",
       "      <td>610</td>\n",
       "      <td>5456</td>\n",
       "      <td>1355</td>\n",
       "      <td>255</td>\n",
       "      <td>32</td>\n",
       "      <td>140</td>\n",
       "      <td>417</td>\n",
       "      <td>Citizens Bank Park</td>\n",
       "      <td>Philadelphia Phillies</td>\n",
       "      <td>3012403</td>\n",
       "    </tr>\n",
       "    <tr>\n",
       "      <th>9</th>\n",
       "      <td>2013</td>\n",
       "      <td>NL</td>\n",
       "      <td>MIA</td>\n",
       "      <td>62</td>\n",
       "      <td>100</td>\n",
       "      <td>513</td>\n",
       "      <td>5449</td>\n",
       "      <td>1257</td>\n",
       "      <td>219</td>\n",
       "      <td>31</td>\n",
       "      <td>95</td>\n",
       "      <td>432</td>\n",
       "      <td>Marlins Park</td>\n",
       "      <td>Miami Marlins</td>\n",
       "      <td>1586322</td>\n",
       "    </tr>\n",
       "    <tr>\n",
       "      <th>10</th>\n",
       "      <td>2013</td>\n",
       "      <td>NL</td>\n",
       "      <td>LAN</td>\n",
       "      <td>92</td>\n",
       "      <td>70</td>\n",
       "      <td>649</td>\n",
       "      <td>5491</td>\n",
       "      <td>1447</td>\n",
       "      <td>281</td>\n",
       "      <td>17</td>\n",
       "      <td>138</td>\n",
       "      <td>476</td>\n",
       "      <td>Dodger Stadium</td>\n",
       "      <td>Los Angeles Dodgers</td>\n",
       "      <td>3743527</td>\n",
       "    </tr>\n",
       "    <tr>\n",
       "      <th>11</th>\n",
       "      <td>2013</td>\n",
       "      <td>NL</td>\n",
       "      <td>ARI</td>\n",
       "      <td>81</td>\n",
       "      <td>81</td>\n",
       "      <td>685</td>\n",
       "      <td>5676</td>\n",
       "      <td>1468</td>\n",
       "      <td>302</td>\n",
       "      <td>31</td>\n",
       "      <td>130</td>\n",
       "      <td>519</td>\n",
       "      <td>Chase Field</td>\n",
       "      <td>Arizona Diamondbacks</td>\n",
       "      <td>2134795</td>\n",
       "    </tr>\n",
       "    <tr>\n",
       "      <th>12</th>\n",
       "      <td>2013</td>\n",
       "      <td>NL</td>\n",
       "      <td>SDN</td>\n",
       "      <td>76</td>\n",
       "      <td>86</td>\n",
       "      <td>618</td>\n",
       "      <td>5517</td>\n",
       "      <td>1349</td>\n",
       "      <td>246</td>\n",
       "      <td>26</td>\n",
       "      <td>146</td>\n",
       "      <td>467</td>\n",
       "      <td>Petco Park</td>\n",
       "      <td>San Diego Padres</td>\n",
       "      <td>2166691</td>\n",
       "    </tr>\n",
       "    <tr>\n",
       "      <th>13</th>\n",
       "      <td>2013</td>\n",
       "      <td>NL</td>\n",
       "      <td>SFN</td>\n",
       "      <td>76</td>\n",
       "      <td>86</td>\n",
       "      <td>629</td>\n",
       "      <td>5552</td>\n",
       "      <td>1446</td>\n",
       "      <td>280</td>\n",
       "      <td>35</td>\n",
       "      <td>107</td>\n",
       "      <td>469</td>\n",
       "      <td>AT&amp;T Park</td>\n",
       "      <td>San Francisco Giants</td>\n",
       "      <td>3326796</td>\n",
       "    </tr>\n",
       "    <tr>\n",
       "      <th>14</th>\n",
       "      <td>2013</td>\n",
       "      <td>NL</td>\n",
       "      <td>COL</td>\n",
       "      <td>74</td>\n",
       "      <td>88</td>\n",
       "      <td>706</td>\n",
       "      <td>5599</td>\n",
       "      <td>1511</td>\n",
       "      <td>283</td>\n",
       "      <td>36</td>\n",
       "      <td>159</td>\n",
       "      <td>427</td>\n",
       "      <td>Coors Field</td>\n",
       "      <td>Colorado Rockies</td>\n",
       "      <td>2793828</td>\n",
       "    </tr>\n",
       "  </tbody>\n",
       "</table>\n",
       "</div>"
      ],
      "text/plain": [
       "    yearID lgID teamID  Wins  Loses  Runs  AtBats  Hits  2Bhits  3Bhits   HR  \\\n",
       "0     2013   NL    SLN    97     65   783    5557  1494     322      20  125   \n",
       "1     2013   NL    PIT    94     68   634    5486  1345     273      35  161   \n",
       "2     2013   NL    CIN    90     72   698    5499  1370     274      20  155   \n",
       "3     2013   NL    MIL    74     88   640    5474  1381     238      43  157   \n",
       "4     2013   NL    CHN    66     96   602    5498  1307     297      18  172   \n",
       "5     2013   NL    ATL    96     66   688    5441  1354     247      21  181   \n",
       "6     2013   NL    WAS    86     76   656    5436  1365     259      27  161   \n",
       "7     2013   NL    NYN    74     88   619    5559  1318     263      32  130   \n",
       "8     2013   NL    PHI    73     89   610    5456  1355     255      32  140   \n",
       "9     2013   NL    MIA    62    100   513    5449  1257     219      31   95   \n",
       "10    2013   NL    LAN    92     70   649    5491  1447     281      17  138   \n",
       "11    2013   NL    ARI    81     81   685    5676  1468     302      31  130   \n",
       "12    2013   NL    SDN    76     86   618    5517  1349     246      26  146   \n",
       "13    2013   NL    SFN    76     86   629    5552  1446     280      35  107   \n",
       "14    2013   NL    COL    74     88   706    5599  1511     283      36  159   \n",
       "\n",
       "     BB                      park                   name  attendance  \n",
       "0   481         Busch Stadium III    St. Louis Cardinals     3369769  \n",
       "1   469                  PNC Park     Pittsburgh Pirates     2256862  \n",
       "2   585  Great American Ball Park        Cincinnati Reds     2534369  \n",
       "3   407               Miller Park      Milwaukee Brewers     2531105  \n",
       "4   439       U.S. Cellular Field      Chicago White Sox     1768413  \n",
       "5   542              Turner Field         Atlanta Braves     2548679  \n",
       "6   464            Nationals Park   Washington Nationals     2652422  \n",
       "7   512                Citi Field          New York Mets     2135657  \n",
       "8   417        Citizens Bank Park  Philadelphia Phillies     3012403  \n",
       "9   432              Marlins Park          Miami Marlins     1586322  \n",
       "10  476            Dodger Stadium    Los Angeles Dodgers     3743527  \n",
       "11  519               Chase Field   Arizona Diamondbacks     2134795  \n",
       "12  467                Petco Park       San Diego Padres     2166691  \n",
       "13  469                 AT&T Park   San Francisco Giants     3326796  \n",
       "14  427               Coors Field       Colorado Rockies     2793828  "
      ]
     },
     "execution_count": 45,
     "metadata": {},
     "output_type": "execute_result"
    }
   ],
   "source": [
    "import pandas as pd                    \n",
    "url = \"https://raw.githubusercontent.com/mwaugh0328/Data_Bootcamp_Fall_2017/master/data_bootcamp_exam/baseball_exam_data.csv\"\n",
    "data = pd.read_csv(url)\n",
    "n1 = pd.DataFrame(data)\n",
    "n1"
   ]
  },
  {
   "cell_type": "markdown",
   "metadata": {},
   "source": [
    "Part B"
   ]
  },
  {
   "cell_type": "code",
   "execution_count": 49,
   "metadata": {},
   "outputs": [
    {
     "data": {
      "text/plain": [
       "(15, 15)"
      ]
     },
     "execution_count": 49,
     "metadata": {},
     "output_type": "execute_result"
    }
   ],
   "source": [
    "n1.shape #15 columns, and 15 rows"
   ]
  },
  {
   "cell_type": "markdown",
   "metadata": {},
   "source": [
    "Part C"
   ]
  },
  {
   "cell_type": "code",
   "execution_count": 50,
   "metadata": {},
   "outputs": [
    {
     "data": {
      "text/plain": [
       "Index(['yearID', 'lgID', 'teamID', 'Wins', 'Loses', 'Runs', 'AtBats', 'Hits',\n",
       "       '2Bhits', '3Bhits', 'HR', 'BB', 'park', 'name', 'attendance'],\n",
       "      dtype='object')"
      ]
     },
     "execution_count": 50,
     "metadata": {},
     "output_type": "execute_result"
    }
   ],
   "source": [
    "n1.columns"
   ]
  },
  {
   "cell_type": "markdown",
   "metadata": {},
   "source": [
    "Part D"
   ]
  },
  {
   "cell_type": "code",
   "execution_count": 51,
   "metadata": {},
   "outputs": [
    {
     "data": {
      "text/plain": [
       "yearID         int64\n",
       "lgID          object\n",
       "teamID        object\n",
       "Wins           int64\n",
       "Loses          int64\n",
       "Runs           int64\n",
       "AtBats         int64\n",
       "Hits           int64\n",
       "2Bhits         int64\n",
       "3Bhits         int64\n",
       "HR             int64\n",
       "BB             int64\n",
       "park          object\n",
       "name          object\n",
       "attendance     int64\n",
       "dtype: object"
      ]
     },
     "execution_count": 51,
     "metadata": {},
     "output_type": "execute_result"
    }
   ],
   "source": [
    "n1.dtypes"
   ]
  },
  {
   "cell_type": "code",
   "execution_count": 52,
   "metadata": {
    "collapsed": true
   },
   "outputs": [],
   "source": [
    "#int64 refers to a integer data type\n",
    "#Object refers to anything which isn't a number, in this case they are strings"
   ]
  },
  {
   "cell_type": "markdown",
   "metadata": {},
   "source": [
    "Part E"
   ]
  },
  {
   "cell_type": "code",
   "execution_count": 57,
   "metadata": {},
   "outputs": [
    {
     "data": {
      "text/plain": [
       "10     Los Angeles Dodgers\n",
       "11    Arizona Diamondbacks\n",
       "12        San Diego Padres\n",
       "13    San Francisco Giants\n",
       "14        Colorado Rockies\n",
       "Name: name, dtype: object"
      ]
     },
     "execution_count": 57,
     "metadata": {},
     "output_type": "execute_result"
    }
   ],
   "source": [
    "westdivision = n1.name.tail(5)\n",
    "westdivision"
   ]
  },
  {
   "cell_type": "code",
   "execution_count": 58,
   "metadata": {},
   "outputs": [
    {
     "data": {
      "text/plain": [
       "pandas.core.series.Series"
      ]
     },
     "execution_count": 58,
     "metadata": {},
     "output_type": "execute_result"
    }
   ],
   "source": [
    "type(westdivision)"
   ]
  },
  {
   "cell_type": "markdown",
   "metadata": {},
   "source": [
    "westdivision is a snippet of n1, only referring to a specific portion of it"
   ]
  },
  {
   "cell_type": "markdown",
   "metadata": {},
   "source": [
    "# Question 7"
   ]
  },
  {
   "cell_type": "markdown",
   "metadata": {},
   "source": [
    "Part A"
   ]
  },
  {
   "cell_type": "code",
   "execution_count": 69,
   "metadata": {
    "collapsed": true
   },
   "outputs": [],
   "source": [
    "n1 = n1.set_index('name')"
   ]
  },
  {
   "cell_type": "markdown",
   "metadata": {},
   "source": [
    "Part B"
   ]
  },
  {
   "cell_type": "code",
   "execution_count": 70,
   "metadata": {
    "collapsed": true
   },
   "outputs": [],
   "source": [
    "n1['BatAverage'] = n1['Hits']/n1['AtBats']"
   ]
  },
  {
   "cell_type": "code",
   "execution_count": 71,
   "metadata": {
    "collapsed": true
   },
   "outputs": [],
   "source": [
    "n1['HRAverage'] = n1['HR']/n1['AtBats']"
   ]
  },
  {
   "cell_type": "markdown",
   "metadata": {},
   "source": [
    "Part C"
   ]
  },
  {
   "cell_type": "code",
   "execution_count": 76,
   "metadata": {},
   "outputs": [
    {
     "data": {
      "text/plain": [
       "0.25108222779605144"
      ]
     },
     "execution_count": 76,
     "metadata": {},
     "output_type": "execute_result"
    }
   ],
   "source": [
    "n1['BatAverage'].mean()"
   ]
  },
  {
   "cell_type": "code",
   "execution_count": 74,
   "metadata": {},
   "outputs": [
    {
     "data": {
      "text/plain": [
       "0.026463657785028096"
      ]
     },
     "execution_count": 74,
     "metadata": {},
     "output_type": "execute_result"
    }
   ],
   "source": [
    "n1['HRAverage'].median()"
   ]
  },
  {
   "cell_type": "markdown",
   "metadata": {},
   "source": [
    "Part D"
   ]
  },
  {
   "cell_type": "code",
   "execution_count": 80,
   "metadata": {},
   "outputs": [
    {
     "data": {
      "text/html": [
       "<div>\n",
       "<style>\n",
       "    .dataframe thead tr:only-child th {\n",
       "        text-align: right;\n",
       "    }\n",
       "\n",
       "    .dataframe thead th {\n",
       "        text-align: left;\n",
       "    }\n",
       "\n",
       "    .dataframe tbody tr th {\n",
       "        vertical-align: top;\n",
       "    }\n",
       "</style>\n",
       "<table border=\"1\" class=\"dataframe\">\n",
       "  <thead>\n",
       "    <tr style=\"text-align: right;\">\n",
       "      <th></th>\n",
       "      <th>index</th>\n",
       "      <th>yearID</th>\n",
       "      <th>Wins</th>\n",
       "      <th>Loses</th>\n",
       "      <th>Runs</th>\n",
       "      <th>AtBats</th>\n",
       "      <th>Hits</th>\n",
       "      <th>2Bhits</th>\n",
       "      <th>3Bhits</th>\n",
       "      <th>HR</th>\n",
       "      <th>BB</th>\n",
       "      <th>attendance</th>\n",
       "      <th>BatAverage</th>\n",
       "      <th>HRAverage</th>\n",
       "    </tr>\n",
       "  </thead>\n",
       "  <tbody>\n",
       "    <tr>\n",
       "      <th>index</th>\n",
       "      <td>1.000000</td>\n",
       "      <td>NaN</td>\n",
       "      <td>-0.452081</td>\n",
       "      <td>0.452081</td>\n",
       "      <td>-0.275561</td>\n",
       "      <td>0.387348</td>\n",
       "      <td>0.259128</td>\n",
       "      <td>-0.133342</td>\n",
       "      <td>0.239340</td>\n",
       "      <td>-0.360775</td>\n",
       "      <td>-0.220390</td>\n",
       "      <td>0.088038</td>\n",
       "      <td>0.193488</td>\n",
       "      <td>-0.380912</td>\n",
       "    </tr>\n",
       "    <tr>\n",
       "      <th>yearID</th>\n",
       "      <td>NaN</td>\n",
       "      <td>NaN</td>\n",
       "      <td>NaN</td>\n",
       "      <td>NaN</td>\n",
       "      <td>NaN</td>\n",
       "      <td>NaN</td>\n",
       "      <td>NaN</td>\n",
       "      <td>NaN</td>\n",
       "      <td>NaN</td>\n",
       "      <td>NaN</td>\n",
       "      <td>NaN</td>\n",
       "      <td>NaN</td>\n",
       "      <td>NaN</td>\n",
       "      <td>NaN</td>\n",
       "    </tr>\n",
       "    <tr>\n",
       "      <th>Wins</th>\n",
       "      <td>-0.452081</td>\n",
       "      <td>NaN</td>\n",
       "      <td>1.000000</td>\n",
       "      <td>-1.000000</td>\n",
       "      <td>0.717028</td>\n",
       "      <td>-0.043868</td>\n",
       "      <td>0.400192</td>\n",
       "      <td>0.376294</td>\n",
       "      <td>-0.409174</td>\n",
       "      <td>0.329335</td>\n",
       "      <td>0.579329</td>\n",
       "      <td>0.518345</td>\n",
       "      <td>0.474008</td>\n",
       "      <td>0.329740</td>\n",
       "    </tr>\n",
       "    <tr>\n",
       "      <th>Loses</th>\n",
       "      <td>0.452081</td>\n",
       "      <td>NaN</td>\n",
       "      <td>-1.000000</td>\n",
       "      <td>1.000000</td>\n",
       "      <td>-0.717028</td>\n",
       "      <td>0.043868</td>\n",
       "      <td>-0.400192</td>\n",
       "      <td>-0.376294</td>\n",
       "      <td>0.409174</td>\n",
       "      <td>-0.329335</td>\n",
       "      <td>-0.579329</td>\n",
       "      <td>-0.518345</td>\n",
       "      <td>-0.474008</td>\n",
       "      <td>-0.329740</td>\n",
       "    </tr>\n",
       "    <tr>\n",
       "      <th>Runs</th>\n",
       "      <td>-0.275561</td>\n",
       "      <td>NaN</td>\n",
       "      <td>0.717028</td>\n",
       "      <td>-0.717028</td>\n",
       "      <td>1.000000</td>\n",
       "      <td>0.406018</td>\n",
       "      <td>0.767903</td>\n",
       "      <td>0.677379</td>\n",
       "      <td>-0.260854</td>\n",
       "      <td>0.306327</td>\n",
       "      <td>0.417649</td>\n",
       "      <td>0.532079</td>\n",
       "      <td>0.775828</td>\n",
       "      <td>0.275241</td>\n",
       "    </tr>\n",
       "    <tr>\n",
       "      <th>AtBats</th>\n",
       "      <td>0.387348</td>\n",
       "      <td>NaN</td>\n",
       "      <td>-0.043868</td>\n",
       "      <td>0.043868</td>\n",
       "      <td>0.406018</td>\n",
       "      <td>1.000000</td>\n",
       "      <td>0.640248</td>\n",
       "      <td>0.634209</td>\n",
       "      <td>0.162819</td>\n",
       "      <td>-0.270838</td>\n",
       "      <td>0.189937</td>\n",
       "      <td>0.037675</td>\n",
       "      <td>0.470511</td>\n",
       "      <td>-0.332291</td>\n",
       "    </tr>\n",
       "    <tr>\n",
       "      <th>Hits</th>\n",
       "      <td>0.259128</td>\n",
       "      <td>NaN</td>\n",
       "      <td>0.400192</td>\n",
       "      <td>-0.400192</td>\n",
       "      <td>0.767903</td>\n",
       "      <td>0.640248</td>\n",
       "      <td>1.000000</td>\n",
       "      <td>0.671804</td>\n",
       "      <td>0.028971</td>\n",
       "      <td>-0.053143</td>\n",
       "      <td>0.056137</td>\n",
       "      <td>0.696393</td>\n",
       "      <td>0.979037</td>\n",
       "      <td>-0.093989</td>\n",
       "    </tr>\n",
       "    <tr>\n",
       "      <th>2Bhits</th>\n",
       "      <td>-0.133342</td>\n",
       "      <td>NaN</td>\n",
       "      <td>0.376294</td>\n",
       "      <td>-0.376294</td>\n",
       "      <td>0.677379</td>\n",
       "      <td>0.634209</td>\n",
       "      <td>0.671804</td>\n",
       "      <td>1.000000</td>\n",
       "      <td>-0.361357</td>\n",
       "      <td>0.036966</td>\n",
       "      <td>0.231167</td>\n",
       "      <td>0.378629</td>\n",
       "      <td>0.604951</td>\n",
       "      <td>-0.004889</td>\n",
       "    </tr>\n",
       "    <tr>\n",
       "      <th>3Bhits</th>\n",
       "      <td>0.239340</td>\n",
       "      <td>NaN</td>\n",
       "      <td>-0.409174</td>\n",
       "      <td>0.409174</td>\n",
       "      <td>-0.260854</td>\n",
       "      <td>0.162819</td>\n",
       "      <td>0.028971</td>\n",
       "      <td>-0.361357</td>\n",
       "      <td>1.000000</td>\n",
       "      <td>-0.201088</td>\n",
       "      <td>-0.486867</td>\n",
       "      <td>-0.153689</td>\n",
       "      <td>-0.011256</td>\n",
       "      <td>-0.208935</td>\n",
       "    </tr>\n",
       "    <tr>\n",
       "      <th>HR</th>\n",
       "      <td>-0.360775</td>\n",
       "      <td>NaN</td>\n",
       "      <td>0.329335</td>\n",
       "      <td>-0.329335</td>\n",
       "      <td>0.306327</td>\n",
       "      <td>-0.270838</td>\n",
       "      <td>-0.053143</td>\n",
       "      <td>0.036966</td>\n",
       "      <td>-0.201088</td>\n",
       "      <td>1.000000</td>\n",
       "      <td>0.127985</td>\n",
       "      <td>-0.085820</td>\n",
       "      <td>0.012596</td>\n",
       "      <td>0.997879</td>\n",
       "    </tr>\n",
       "    <tr>\n",
       "      <th>BB</th>\n",
       "      <td>-0.220390</td>\n",
       "      <td>NaN</td>\n",
       "      <td>0.579329</td>\n",
       "      <td>-0.579329</td>\n",
       "      <td>0.417649</td>\n",
       "      <td>0.189937</td>\n",
       "      <td>0.056137</td>\n",
       "      <td>0.231167</td>\n",
       "      <td>-0.486867</td>\n",
       "      <td>0.127985</td>\n",
       "      <td>1.000000</td>\n",
       "      <td>0.005980</td>\n",
       "      <td>0.017068</td>\n",
       "      <td>0.116523</td>\n",
       "    </tr>\n",
       "    <tr>\n",
       "      <th>attendance</th>\n",
       "      <td>0.088038</td>\n",
       "      <td>NaN</td>\n",
       "      <td>0.518345</td>\n",
       "      <td>-0.518345</td>\n",
       "      <td>0.532079</td>\n",
       "      <td>0.037675</td>\n",
       "      <td>0.696393</td>\n",
       "      <td>0.378629</td>\n",
       "      <td>-0.153689</td>\n",
       "      <td>-0.085820</td>\n",
       "      <td>0.005980</td>\n",
       "      <td>1.000000</td>\n",
       "      <td>0.792566</td>\n",
       "      <td>-0.084231</td>\n",
       "    </tr>\n",
       "    <tr>\n",
       "      <th>BatAverage</th>\n",
       "      <td>0.193488</td>\n",
       "      <td>NaN</td>\n",
       "      <td>0.474008</td>\n",
       "      <td>-0.474008</td>\n",
       "      <td>0.775828</td>\n",
       "      <td>0.470511</td>\n",
       "      <td>0.979037</td>\n",
       "      <td>0.604951</td>\n",
       "      <td>-0.011256</td>\n",
       "      <td>0.012596</td>\n",
       "      <td>0.017068</td>\n",
       "      <td>0.792566</td>\n",
       "      <td>1.000000</td>\n",
       "      <td>-0.018048</td>\n",
       "    </tr>\n",
       "    <tr>\n",
       "      <th>HRAverage</th>\n",
       "      <td>-0.380912</td>\n",
       "      <td>NaN</td>\n",
       "      <td>0.329740</td>\n",
       "      <td>-0.329740</td>\n",
       "      <td>0.275241</td>\n",
       "      <td>-0.332291</td>\n",
       "      <td>-0.093989</td>\n",
       "      <td>-0.004889</td>\n",
       "      <td>-0.208935</td>\n",
       "      <td>0.997879</td>\n",
       "      <td>0.116523</td>\n",
       "      <td>-0.084231</td>\n",
       "      <td>-0.018048</td>\n",
       "      <td>1.000000</td>\n",
       "    </tr>\n",
       "  </tbody>\n",
       "</table>\n",
       "</div>"
      ],
      "text/plain": [
       "               index  yearID      Wins     Loses      Runs    AtBats  \\\n",
       "index       1.000000     NaN -0.452081  0.452081 -0.275561  0.387348   \n",
       "yearID           NaN     NaN       NaN       NaN       NaN       NaN   \n",
       "Wins       -0.452081     NaN  1.000000 -1.000000  0.717028 -0.043868   \n",
       "Loses       0.452081     NaN -1.000000  1.000000 -0.717028  0.043868   \n",
       "Runs       -0.275561     NaN  0.717028 -0.717028  1.000000  0.406018   \n",
       "AtBats      0.387348     NaN -0.043868  0.043868  0.406018  1.000000   \n",
       "Hits        0.259128     NaN  0.400192 -0.400192  0.767903  0.640248   \n",
       "2Bhits     -0.133342     NaN  0.376294 -0.376294  0.677379  0.634209   \n",
       "3Bhits      0.239340     NaN -0.409174  0.409174 -0.260854  0.162819   \n",
       "HR         -0.360775     NaN  0.329335 -0.329335  0.306327 -0.270838   \n",
       "BB         -0.220390     NaN  0.579329 -0.579329  0.417649  0.189937   \n",
       "attendance  0.088038     NaN  0.518345 -0.518345  0.532079  0.037675   \n",
       "BatAverage  0.193488     NaN  0.474008 -0.474008  0.775828  0.470511   \n",
       "HRAverage  -0.380912     NaN  0.329740 -0.329740  0.275241 -0.332291   \n",
       "\n",
       "                Hits    2Bhits    3Bhits        HR        BB  attendance  \\\n",
       "index       0.259128 -0.133342  0.239340 -0.360775 -0.220390    0.088038   \n",
       "yearID           NaN       NaN       NaN       NaN       NaN         NaN   \n",
       "Wins        0.400192  0.376294 -0.409174  0.329335  0.579329    0.518345   \n",
       "Loses      -0.400192 -0.376294  0.409174 -0.329335 -0.579329   -0.518345   \n",
       "Runs        0.767903  0.677379 -0.260854  0.306327  0.417649    0.532079   \n",
       "AtBats      0.640248  0.634209  0.162819 -0.270838  0.189937    0.037675   \n",
       "Hits        1.000000  0.671804  0.028971 -0.053143  0.056137    0.696393   \n",
       "2Bhits      0.671804  1.000000 -0.361357  0.036966  0.231167    0.378629   \n",
       "3Bhits      0.028971 -0.361357  1.000000 -0.201088 -0.486867   -0.153689   \n",
       "HR         -0.053143  0.036966 -0.201088  1.000000  0.127985   -0.085820   \n",
       "BB          0.056137  0.231167 -0.486867  0.127985  1.000000    0.005980   \n",
       "attendance  0.696393  0.378629 -0.153689 -0.085820  0.005980    1.000000   \n",
       "BatAverage  0.979037  0.604951 -0.011256  0.012596  0.017068    0.792566   \n",
       "HRAverage  -0.093989 -0.004889 -0.208935  0.997879  0.116523   -0.084231   \n",
       "\n",
       "            BatAverage  HRAverage  \n",
       "index         0.193488  -0.380912  \n",
       "yearID             NaN        NaN  \n",
       "Wins          0.474008   0.329740  \n",
       "Loses        -0.474008  -0.329740  \n",
       "Runs          0.775828   0.275241  \n",
       "AtBats        0.470511  -0.332291  \n",
       "Hits          0.979037  -0.093989  \n",
       "2Bhits        0.604951  -0.004889  \n",
       "3Bhits       -0.011256  -0.208935  \n",
       "HR            0.012596   0.997879  \n",
       "BB            0.017068   0.116523  \n",
       "attendance    0.792566  -0.084231  \n",
       "BatAverage    1.000000  -0.018048  \n",
       "HRAverage    -0.018048   1.000000  "
      ]
     },
     "execution_count": 80,
     "metadata": {},
     "output_type": "execute_result"
    }
   ],
   "source": [
    "n1.corr(method='pearson')"
   ]
  },
  {
   "cell_type": "markdown",
   "metadata": {},
   "source": [
    "Part E"
   ]
  },
  {
   "cell_type": "code",
   "execution_count": 81,
   "metadata": {
    "collapsed": true
   },
   "outputs": [],
   "source": [
    "import matplotlib as mpl\n",
    "import matplotlib.pyplot as plt \n",
    "%matplotlib inline"
   ]
  },
  {
   "cell_type": "code",
   "execution_count": 88,
   "metadata": {},
   "outputs": [
    {
     "data": {
      "text/plain": [
       "<matplotlib.axes._subplots.AxesSubplot at 0x1149a0e10>"
      ]
     },
     "execution_count": 88,
     "metadata": {},
     "output_type": "execute_result"
    },
    {
     "data": {
      "image/png": "[encoded data removed]",
      "text/plain": [
       "<matplotlib.figure.Figure at 0x1149ba518>"
      ]
     },
     "metadata": {},
     "output_type": "display_data"
    }
   ],
   "source": [
    "n1['BatAverage'].plot(kind=\"barh\", xlim=(0.22, 0.28))"
   ]
  },
  {
   "cell_type": "markdown",
   "metadata": {},
   "source": [
    "# Question 8"
   ]
  },
  {
   "cell_type": "code",
   "execution_count": 106,
   "metadata": {},
   "outputs": [
    {
     "data": {
      "text/plain": [
       "<matplotlib.text.Text at 0x11987d4a8>"
      ]
     },
     "execution_count": 106,
     "metadata": {},
     "output_type": "execute_result"
    },
    {
     "data": {
      "image/png": "[encoded data removed]",
      "text/plain": [
       "<matplotlib.figure.Figure at 0x1195dcf98>"
      ]
     },
     "metadata": {},
     "output_type": "display_data"
    },
    {
     "data": {
      "image/png": "[encoded data removed]",
      "text/plain": [
       "<matplotlib.figure.Figure at 0x1198a9f28>"
      ]
     },
     "metadata": {},
     "output_type": "display_data"
    },
    {
     "data": {
      "image/png": "[encoded data removed]",
      "text/plain": [
       "<matplotlib.figure.Figure at 0x1197b1320>"
      ]
     },
     "metadata": {},
     "output_type": "display_data"
    }
   ],
   "source": [
    "# part a\n",
    "import matplotlib.pyplot as plt \n",
    "fig,ax = plt.subplots()\n",
    "\n",
    "n1.plot.scatter('BatAverage','Wins')\n",
    "n1.plot.scatter(\"HRAverage\",\"Wins\")\n",
    "\n",
    "ax.set_title(\"Strong correlations between Hitting and Winning\")\n",
    "\n",
    "\n",
    "\n"
   ]
  },
  {
   "cell_type": "code",
   "execution_count": null,
   "metadata": {
    "collapsed": true
   },
   "outputs": [],
   "source": []
  }
 ],
 "metadata": {
  "kernelspec": {
   "display_name": "Python 3",
   "language": "python",
   "name": "python3"
  },
  "language_info": {
   "codemirror_mode": {
    "name": "ipython",
    "version": 3
   },
   "file_extension": ".py",
   "mimetype": "text/x-python",
   "name": "python",
   "nbconvert_exporter": "python",
   "pygments_lexer": "ipython3",
   "version": "3.6.1"
  }
 },
 "nbformat": 4,
 "nbformat_minor": 2
}
